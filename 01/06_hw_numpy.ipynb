{
  "cells": [
    {
      "cell_type": "markdown",
      "metadata": {
        "id": "d6sguJTx9ohx"
      },
      "source": [
        "# Домашняя работа. Numpy\n",
        "\n",
        "1. Скачайте этот ноутбук к себе.\n",
        "2. Заполните пропущенные ячейки, отвечая на заданные вопросы. Там должен быть код! (если не сказано обратное)\n",
        "3. Сохраните результат в своём гитхаб репозитории.\n",
        "\n",
        "#### Полезная литература\n",
        "\n",
        "- http://www.numpy.org/\n",
        "- https://jakevdp.github.io/PythonDataScienceHandbook/02.00-introduction-to-numpy.html\n",
        "- https://docs.scipy.org/doc/numpy/user/quickstart.html"
      ]
    },
    {
      "cell_type": "markdown",
      "metadata": {
        "id": "XmxLX70e9ohz"
      },
      "source": [
        "1) Импортировать numpy и написать версию"
      ]
    },
    {
      "cell_type": "code",
      "execution_count": 3,
      "metadata": {
        "colab": {
          "base_uri": "https://localhost:8080/",
          "height": 35
        },
        "id": "KRQaZS6h9ohz",
        "outputId": "d2fcc57d-8f7a-4c8d-b04f-eef97be19f6d"
      },
      "outputs": [
        {
          "output_type": "execute_result",
          "data": {
            "text/plain": [
              "'1.26.4'"
            ],
            "application/vnd.google.colaboratory.intrinsic+json": {
              "type": "string"
            }
          },
          "metadata": {},
          "execution_count": 3
        }
      ],
      "source": [
        "import numpy as np\n",
        "np. __version__"
      ]
    },
    {
      "cell_type": "markdown",
      "metadata": {
        "id": "DtMJ37VX9ohz"
      },
      "source": [
        "2) Создать нулевой вектор размера 10"
      ]
    },
    {
      "cell_type": "code",
      "execution_count": 19,
      "metadata": {
        "colab": {
          "base_uri": "https://localhost:8080/"
        },
        "id": "fFEUm0_M9ohz",
        "outputId": "2d3c8c59-892f-4b61-8365-f87766da2cb8"
      },
      "outputs": [
        {
          "output_type": "execute_result",
          "data": {
            "text/plain": [
              "array([0, 0, 0, 0, 0, 0, 0, 0, 0, 0])"
            ]
          },
          "metadata": {},
          "execution_count": 19
        }
      ],
      "source": [
        "arr = np.full(10,0)\n",
        "arr"
      ]
    },
    {
      "cell_type": "markdown",
      "metadata": {
        "id": "w1HeAiVk9ohz"
      },
      "source": [
        "3) Создать вектор заполненный 7-ами размера 7"
      ]
    },
    {
      "cell_type": "code",
      "execution_count": 17,
      "metadata": {
        "colab": {
          "base_uri": "https://localhost:8080/"
        },
        "id": "5BSefcx99ohz",
        "outputId": "3be552c5-d2fe-4b90-c583-db869955cc40"
      },
      "outputs": [
        {
          "output_type": "execute_result",
          "data": {
            "text/plain": [
              "array([7, 7, 7, 7, 7, 7, 7])"
            ]
          },
          "metadata": {},
          "execution_count": 17
        }
      ],
      "source": [
        "arr = np.full(7,7)\n",
        "arr"
      ]
    },
    {
      "cell_type": "markdown",
      "metadata": {
        "id": "udY3GzL-9ohz"
      },
      "source": [
        "4) Создать вектор заполненный четными числами от 10 до 100"
      ]
    },
    {
      "cell_type": "code",
      "execution_count": 22,
      "metadata": {
        "colab": {
          "base_uri": "https://localhost:8080/"
        },
        "id": "NXV3MJ_m9oh0",
        "outputId": "4f966e99-ba72-447c-cd67-793cccb3e9c3"
      },
      "outputs": [
        {
          "output_type": "execute_result",
          "data": {
            "text/plain": [
              "array([10, 12, 14, 16, 18, 20, 22, 24, 26, 28, 30, 32, 34, 36, 38, 40, 42,\n",
              "       44, 46, 48, 50, 52, 54, 56, 58, 60, 62, 64, 66, 68, 70, 72, 74, 76,\n",
              "       78, 80, 82, 84, 86, 88, 90, 92, 94, 96, 98])"
            ]
          },
          "metadata": {},
          "execution_count": 22
        }
      ],
      "source": [
        "arr = np.arange(10, 100, 2)\n",
        "arr"
      ]
    },
    {
      "cell_type": "markdown",
      "metadata": {
        "id": "_uOanoAV9oh0"
      },
      "source": [
        "5) Создать массив случайных чисел и развернуть его задом наперёд"
      ]
    },
    {
      "cell_type": "code",
      "execution_count": 38,
      "metadata": {
        "colab": {
          "base_uri": "https://localhost:8080/"
        },
        "id": "EfeTRJZy9oh0",
        "outputId": "6e2b071f-e8d7-486f-b9b4-d7052915377a"
      },
      "outputs": [
        {
          "output_type": "execute_result",
          "data": {
            "text/plain": [
              "array([5, 4, 3, 2, 1])"
            ]
          },
          "metadata": {},
          "execution_count": 38
        }
      ],
      "source": [
        "arr = np.array([1,2,3,4,5])\n",
        "np.flip(arr)"
      ]
    },
    {
      "cell_type": "markdown",
      "metadata": {
        "id": "INuBsG439oh0"
      },
      "source": [
        "6) Создать двумерную матрицу размера 3 на 3, заполненную числами от 0 до 9"
      ]
    },
    {
      "cell_type": "code",
      "execution_count": 41,
      "metadata": {
        "colab": {
          "base_uri": "https://localhost:8080/"
        },
        "id": "mCY4OLhF9oh0",
        "outputId": "67e7e8b9-f9bf-44cc-cd12-48a417cfc49a"
      },
      "outputs": [
        {
          "output_type": "execute_result",
          "data": {
            "text/plain": [
              "array([[0, 1, 2],\n",
              "       [3, 4, 5],\n",
              "       [6, 7, 8]])"
            ]
          },
          "metadata": {},
          "execution_count": 41
        }
      ],
      "source": [
        "arr = np.arange(9).reshape(3, 3)\n",
        "arr"
      ]
    },
    {
      "cell_type": "markdown",
      "metadata": {
        "id": "QNArE5K49oh0"
      },
      "source": [
        "7) Создать матрицу размера 4 на 4 с единицами на диагонали смещеной на один наверх."
      ]
    },
    {
      "cell_type": "code",
      "execution_count": 46,
      "metadata": {
        "colab": {
          "base_uri": "https://localhost:8080/"
        },
        "id": "RmOYm9y-9oh0",
        "outputId": "7b468394-14cc-4524-cd3c-be1dd13c586b"
      },
      "outputs": [
        {
          "output_type": "execute_result",
          "data": {
            "text/plain": [
              "array([[0., 1., 0., 0.],\n",
              "       [0., 0., 1., 0.],\n",
              "       [0., 0., 0., 1.],\n",
              "       [0., 0., 0., 0.]])"
            ]
          },
          "metadata": {},
          "execution_count": 46
        }
      ],
      "source": [
        "arr = np.eye(4, k=1)\n",
        "arr"
      ]
    },
    {
      "cell_type": "markdown",
      "metadata": {
        "id": "C_VWpaxr9oh0"
      },
      "source": [
        "8) Создать матрицу с числами в диапазоне от 1 до 4 по диагонали. В других ячейках матрицы должны быть семерки."
      ]
    },
    {
      "cell_type": "code",
      "execution_count": 52,
      "metadata": {
        "colab": {
          "base_uri": "https://localhost:8080/"
        },
        "id": "lN4uQT-89oh0",
        "outputId": "59f571b0-3e9c-4e55-a32a-8600d0c37124"
      },
      "outputs": [
        {
          "output_type": "execute_result",
          "data": {
            "text/plain": [
              "array([[1, 7, 7, 7],\n",
              "       [7, 2, 7, 7],\n",
              "       [7, 7, 3, 7],\n",
              "       [7, 7, 7, 4]])"
            ]
          },
          "metadata": {},
          "execution_count": 52
        }
      ],
      "source": [
        "arr = np.full((4, 4),7)\n",
        "np.fill_diagonal(arr, np.arange(1, 5))\n",
        "arr"
      ]
    },
    {
      "cell_type": "markdown",
      "metadata": {
        "id": "145oltcQ9oh0"
      },
      "source": [
        "9) Создать матрицу размера 5 на 5 заполненную чилами от 0 до 4 в строках."
      ]
    },
    {
      "cell_type": "code",
      "execution_count": 56,
      "metadata": {
        "colab": {
          "base_uri": "https://localhost:8080/"
        },
        "id": "LsmvsPjy9oh0",
        "outputId": "cbc22b74-8be0-44fd-9dbb-b285212e9c37"
      },
      "outputs": [
        {
          "output_type": "execute_result",
          "data": {
            "text/plain": [
              "array([[0, 1, 2, 3],\n",
              "       [0, 1, 2, 3],\n",
              "       [0, 1, 2, 3],\n",
              "       [0, 1, 2, 3],\n",
              "       [0, 1, 2, 3]])"
            ]
          },
          "metadata": {},
          "execution_count": 56
        }
      ],
      "source": [
        "arr = np.tile(np.arange(5),(5,1))\n",
        "arr"
      ]
    },
    {
      "cell_type": "markdown",
      "metadata": {
        "id": "o7STELcB9oh0"
      },
      "source": [
        "10) Создать матрицу случайных чисел размера 10 на 10 и отнять среднее по строкам из каждого элемента строки"
      ]
    },
    {
      "cell_type": "code",
      "execution_count": 9,
      "metadata": {
        "colab": {
          "base_uri": "https://localhost:8080/"
        },
        "id": "PzXj9fs69oh0",
        "outputId": "761055b3-5741-4128-b94c-86369cd6ecfa"
      },
      "outputs": [
        {
          "output_type": "execute_result",
          "data": {
            "text/plain": [
              "array([[ 1.1,  1.1, -1.9, -0.9, -2.9,  5.1, -1.9,  1.1, -3.9,  3.1],\n",
              "       [-3.5, -2.5,  2.5,  3.5, -3.5,  4.5,  3.5, -0.5, -1.5, -2.5],\n",
              "       [-4. ,  2. , -1. ,  2. ,  2. , -3. , -3. ,  4. ,  4. , -3. ],\n",
              "       [-2.7, -2.7,  2.3,  1.3, -1.7, -0.7,  1.3, -0.7,  3.3,  0.3],\n",
              "       [ 1.3, -1.7, -1.7,  0.3,  3.3,  3.3, -4.7,  3.3, -1.7, -1.7],\n",
              "       [-4.7,  1.3,  1.3, -0.7, -0.7,  0.3, -2.7,  4.3, -1.7,  3.3],\n",
              "       [ 3. ,  4. ,  2. ,  2. , -2. , -1. , -5. ,  1. , -4. ,  0. ],\n",
              "       [-3.1, -2.1, -2.1,  2.9, -1.1, -2.1,  5.9, -0.1, -3.1,  4.9],\n",
              "       [-4. , -3. , -1. ,  2. ,  4. ,  1. ,  0. ,  3. ,  2. , -4. ],\n",
              "       [-2.1,  5.9, -1.1, -0.1, -3.1,  0.9, -2.1, -0.1,  4.9, -3.1]])"
            ]
          },
          "metadata": {},
          "execution_count": 9
        }
      ],
      "source": [
        "arr = np.random.rand(10,10)*10//1\n",
        "arr = arr - arr.mean(axis=1,keepdims=True)\n",
        "arr"
      ]
    },
    {
      "cell_type": "markdown",
      "metadata": {
        "id": "gpo02J1e9oh0"
      },
      "source": [
        "11) Создать матрицу случайных чисел размера 10 на 10 и отнять медиану по столбцам из каждого элемента столбца  "
      ]
    },
    {
      "cell_type": "code",
      "execution_count": 17,
      "metadata": {
        "colab": {
          "base_uri": "https://localhost:8080/"
        },
        "id": "cZBVgY2-9oh0",
        "outputId": "9be83c30-62aa-4f7b-da4e-3156deead883"
      },
      "outputs": [
        {
          "output_type": "execute_result",
          "data": {
            "text/plain": [
              "array([[-3. , -4. ,  1. ,  1. ,  0.5, -1.5, -3.5, -5. ,  2.5, -3. ],\n",
              "       [ 0. ,  2. , -1. ,  1. ,  1.5,  2.5, -3.5, -5. , -3.5,  4. ],\n",
              "       [ 2. ,  1. ,  0. ,  3. , -2.5,  3.5,  5.5,  1. , -0.5, -5. ],\n",
              "       [-2. , -1. ,  3. ,  0. ,  0.5,  0.5,  1.5, -4. ,  4.5, -4. ],\n",
              "       [ 0. , -6. , -6. , -5. , -0.5, -1.5, -0.5,  0. ,  0.5,  1. ],\n",
              "       [ 5. , -3. ,  0. , -3. ,  3.5,  7.5,  0.5,  3. , -3.5,  2. ],\n",
              "       [ 0. ,  2. , -1. , -5. , -1.5,  1.5, -0.5,  0. ,  3.5,  3. ],\n",
              "       [-2. ,  2. ,  2. ,  0. ,  4.5, -1.5,  3.5, -2. ,  2.5, -1. ],\n",
              "       [ 6. ,  1. , -1. , -5. , -2.5, -0.5, -3.5,  0. , -0.5, -5. ],\n",
              "       [ 3. , -4. ,  0. ,  2. , -0.5, -0.5,  5.5,  2. , -4.5,  1. ]])"
            ]
          },
          "metadata": {},
          "execution_count": 17
        }
      ],
      "source": [
        "arr = np.random.rand(10,10)*10//1\n",
        "arr = arr - np.median(arr,axis=0)\n",
        "arr"
      ]
    },
    {
      "cell_type": "markdown",
      "metadata": {
        "id": "-sOToxWb9oh0"
      },
      "source": [
        "12) Создать матрицу случайных чисел 5x5. Добавить к ней столбецы максимумов и минимумов по строкам. Получится матрица 5x7.  "
      ]
    },
    {
      "cell_type": "code",
      "execution_count": 20,
      "metadata": {
        "colab": {
          "base_uri": "https://localhost:8080/"
        },
        "id": "kVgrfXNW9oh0",
        "outputId": "b18fe774-8c7a-4cbd-e62a-78ff46663af1"
      },
      "outputs": [
        {
          "output_type": "execute_result",
          "data": {
            "text/plain": [
              "array([[3., 1., 2., 1., 7., 1., 7.],\n",
              "       [1., 6., 5., 2., 5., 1., 6.],\n",
              "       [7., 0., 8., 6., 2., 0., 8.],\n",
              "       [9., 4., 3., 2., 6., 2., 9.],\n",
              "       [7., 5., 1., 2., 4., 1., 7.]])"
            ]
          },
          "metadata": {},
          "execution_count": 20
        }
      ],
      "source": [
        "arr = np.random.rand(5,5)*10//1\n",
        "min = arr.min(axis=1,keepdims=True)\n",
        "max = arr.max(axis=1,keepdims=True)\n",
        "arr = np.hstack((arr,min,max))\n",
        "arr"
      ]
    },
    {
      "cell_type": "markdown",
      "metadata": {
        "id": "V42O_oyW9oh0"
      },
      "source": [
        "13) Вектор чисел от 1 до 51 преобразовать в вектор нечетных чисел и в вектор четных чисел, поменять их размерности, чтобы получились две матрица. Найти произведение этих матриц. Найти обратную матрицу эётого произведения.  "
      ]
    },
    {
      "cell_type": "code",
      "execution_count": 42,
      "metadata": {
        "colab": {
          "base_uri": "https://localhost:8080/"
        },
        "id": "G_4I0MkB9oh0",
        "outputId": "45b20824-ddc0-4439-fb73-816f3ce0e181"
      },
      "outputs": [
        {
          "output_type": "stream",
          "name": "stdout",
          "text": [
            "[ 1  3  5  7  9 11 13 15 17 19 21 23 25 27 29 31 33 35 37 39 41 43 45 47\n",
            " 49]\n",
            "[ 2  4  6  8 10 12 14 16 18 20 22 24 26 28 30 32 34 36 38 40 42 44 46 48\n",
            " 50]\n"
          ]
        }
      ],
      "source": [
        "arr = np.arange(1,51)\n",
        "odd = arr[arr%2 != 0]\n",
        "even = arr[arr%2 == 0]\n",
        "odd= odd.reshape(-1, 1)\n",
        "even = even.reshape(1, -1)\n",
        "prod = odd @ even\n",
        "inverse_matrix = np.linalg.pinv(prod)\n",
        "#Невозможно найти обратную матрица вырожденная"
      ]
    },
    {
      "cell_type": "markdown",
      "metadata": {
        "id": "lV3jwyCt9oh0"
      },
      "source": [
        "14) Создать 8x8 матрицу и заполнить её в шахматном порядке нулями и единицами."
      ]
    },
    {
      "cell_type": "code",
      "execution_count": 43,
      "metadata": {
        "colab": {
          "base_uri": "https://localhost:8080/"
        },
        "id": "NbSQRb_B9oh1",
        "outputId": "4ce32d1c-33ff-4c3b-a1b3-0b525f61b5c3"
      },
      "outputs": [
        {
          "output_type": "execute_result",
          "data": {
            "text/plain": [
              "array([[0, 1, 0, 1, 0, 1, 0, 1],\n",
              "       [1, 0, 1, 0, 1, 0, 1, 0],\n",
              "       [0, 1, 0, 1, 0, 1, 0, 1],\n",
              "       [1, 0, 1, 0, 1, 0, 1, 0],\n",
              "       [0, 1, 0, 1, 0, 1, 0, 1],\n",
              "       [1, 0, 1, 0, 1, 0, 1, 0],\n",
              "       [0, 1, 0, 1, 0, 1, 0, 1],\n",
              "       [1, 0, 1, 0, 1, 0, 1, 0]])"
            ]
          },
          "metadata": {},
          "execution_count": 43
        }
      ],
      "source": [
        "arr = np.zeros((8, 8), dtype=int)\n",
        "arr[1::2, ::2] = 1\n",
        "arr[::2, 1::2] = 1\n",
        "arr"
      ]
    }
  ],
  "metadata": {
    "kernelspec": {
      "display_name": "Python 3 (ipykernel)",
      "language": "python",
      "name": "python3"
    },
    "language_info": {
      "codemirror_mode": {
        "name": "ipython",
        "version": 3
      },
      "file_extension": ".py",
      "mimetype": "text/x-python",
      "name": "python",
      "nbconvert_exporter": "python",
      "pygments_lexer": "ipython3",
      "version": "3.12.4"
    },
    "colab": {
      "provenance": []
    }
  },
  "nbformat": 4,
  "nbformat_minor": 0
}